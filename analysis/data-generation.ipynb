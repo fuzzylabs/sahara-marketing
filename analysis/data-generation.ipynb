{
 "cells": [
  {
   "cell_type": "markdown",
   "metadata": {},
   "source": [
    "# Introduction\n",
    "\n",
    "This notebook generates fake CRM data using the Google Analytics dataset. We make the assumption that each `fullVisitorId` in Google Analytics corresponds to a hypothetical customer and we generate an age and gender for each customer.\n",
    "\n",
    "## Age distribution\n",
    "\n",
    "The customer ages are related to whether they are repeat buyers:\n",
    "\n",
    "* *Repeat buyer* normally-distributed with mean 25 and standard deviation 2\n",
    "* *One-time buyer* normally-distributed with mean 50 and standard deviation 4\n",
    "\n",
    "\n",
    "## Gender distribution\n",
    "\n",
    "Genders are chosen in a uniform distribution with 50% male and 50% female.\n",
    "\n",
    "## Output\n",
    "\n",
    "This notebook writes the results to a csv file in the `data` directory."
   ]
  },
  {
   "cell_type": "code",
   "execution_count": 1,
   "metadata": {},
   "outputs": [],
   "source": [
    "import pandas as pd\n",
    "import random as rnd\n",
    "import matplotlib.pyplot as plt"
   ]
  },
  {
   "cell_type": "code",
   "execution_count": 2,
   "metadata": {},
   "outputs": [],
   "source": [
    "accounts = pd.read_csv('../data/google_analytics.csv')\n",
    "rnd.seed(0) # random seed for reproducibility"
   ]
  },
  {
   "cell_type": "code",
   "execution_count": 3,
   "metadata": {},
   "outputs": [],
   "source": [
    "def generate_age(row):\n",
    "    return int(round(rnd.gauss(25, 2) if (row['total_transactions'] > 1) else rnd.gauss(50, 4)))"
   ]
  },
  {
   "cell_type": "code",
   "execution_count": 4,
   "metadata": {},
   "outputs": [],
   "source": [
    "def generate_gender(row):\n",
    "    return rnd.choice(['male', 'female'])"
   ]
  },
  {
   "cell_type": "code",
   "execution_count": 5,
   "metadata": {},
   "outputs": [
    {
     "name": "stdout",
     "output_type": "stream",
     "text": [
      "   age        fullVisitorId  gender\n",
      "0   54   290333981372798422  female\n",
      "1   44   290333981372798422  female\n",
      "2   47   395050647250429598  female\n",
      "3   51   395050647250429598    male\n",
      "4   46   395050647250429598  female\n",
      "5   50   395050647250429598    male\n",
      "6   51   644061149609662421    male\n",
      "7   47  5446026750047012560    male\n",
      "8   45  5446026750047012560  female\n",
      "9   51   754276461062540121    male\n"
     ]
    }
   ],
   "source": [
    "ages = accounts.apply(generate_age, axis=1)\n",
    "genders = accounts.apply(generate_gender, axis=1)\n",
    "crm = pd.DataFrame({'fullVisitorId': accounts['fullVisitorId'],\n",
    "                    'age': ages,\n",
    "                    'gender': genders\n",
    "                   })\n",
    "print(crm.head(10))"
   ]
  },
  {
   "cell_type": "code",
   "execution_count": 6,
   "metadata": {},
   "outputs": [
    {
     "data": {
      "image/png": "[encoded data removed]",
      "text/plain": [
       "<Figure size 432x288 with 1 Axes>"
      ]
     },
     "metadata": {
      "needs_background": "light"
     },
     "output_type": "display_data"
    }
   ],
   "source": [
    "plt.xlabel('Age')\n",
    "plt.ylabel('Probability')\n",
    "plt.title('Distribution of generated ages')\n",
    "n, bins, patches = plt.hist(ages, bins=80, density=True)"
   ]
  },
  {
   "cell_type": "code",
   "execution_count": 7,
   "metadata": {},
   "outputs": [],
   "source": [
    "crm.to_csv(\"../data/crm.csv\")"
   ]
  }
 ],
 "metadata": {
  "kernelspec": {
   "display_name": "Python 2",
   "language": "python",
   "name": "python2"
  },
  "language_info": {
   "codemirror_mode": {
    "name": "ipython",
    "version": 2
   },
   "file_extension": ".py",
   "mimetype": "text/x-python",
   "name": "python",
   "nbconvert_exporter": "python",
   "pygments_lexer": "ipython2",
   "version": "2.7.16"
  }
 },
 "nbformat": 4,
 "nbformat_minor": 2
}
